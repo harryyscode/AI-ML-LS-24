{
  "nbformat": 4,
  "nbformat_minor": 0,
  "metadata": {
    "colab": {
      "provenance": []
    },
    "kernelspec": {
      "name": "python3",
      "display_name": "Python 3"
    },
    "language_info": {
      "name": "python"
    }
  },
  "cells": [
    {
      "cell_type": "code",
      "source": [
        "from google.colab import drive\n",
        "drive.mount('/content/drive')"
      ],
      "metadata": {
        "colab": {
          "base_uri": "https://localhost:8080/"
        },
        "id": "Kmx0u4C0yaCT",
        "outputId": "1a644603-38fb-4518-a3dd-65bb89725f5f"
      },
      "execution_count": 12,
      "outputs": [
        {
          "output_type": "stream",
          "name": "stdout",
          "text": [
            "Drive already mounted at /content/drive; to attempt to forcibly remount, call drive.mount(\"/content/drive\", force_remount=True).\n"
          ]
        }
      ]
    },
    {
      "cell_type": "code",
      "source": [
        "import tensorflow as tf\n",
        "from tensorflow.keras.layers import Dense,Flatten\n",
        "from tensorflow.keras import Input"
      ],
      "metadata": {
        "id": "jEIgvucRzI3l"
      },
      "execution_count": 13,
      "outputs": []
    },
    {
      "cell_type": "code",
      "source": [
        "dataset = tf.keras.preprocessing.image_dataset_from_directory(\"/content/drive/MyDrive/homer_bart\",image_size=(64, 64),label_mode = \"binary\")"
      ],
      "metadata": {
        "colab": {
          "base_uri": "https://localhost:8080/"
        },
        "id": "OcJw5c7pzM2j",
        "outputId": "4a6404fd-5b40-4696-e411-85cb49d548fa"
      },
      "execution_count": 14,
      "outputs": [
        {
          "output_type": "stream",
          "name": "stdout",
          "text": [
            "Found 269 files belonging to 2 classes.\n"
          ]
        }
      ]
    },
    {
      "cell_type": "code",
      "source": [
        "train_data = dataset.take(8)\n",
        "test_data = dataset.skip(8)\n",
        "train_data = train_data.cache().shuffle(1000).prefetch(buffer_size=tf.data.AUTOTUNE)\n",
        "test_data = test_data.cache().shuffle(1000).prefetch(buffer_size=tf.data.AUTOTUNE)"
      ],
      "metadata": {
        "id": "UMy7OhtPzWTN"
      },
      "execution_count": 15,
      "outputs": []
    },
    {
      "cell_type": "code",
      "source": [
        "preprocess = tf.keras.Sequential(\n",
        "    [tf.keras.layers.Rescaling(1./255)]\n",
        ")\n",
        "model = tf.keras.Sequential()\n",
        "model.add(Input((64,64,3)))\n",
        "model.add(Flatten())\n",
        "model.add(preprocess)\n",
        "model.add(Dense(128, activation='relu'))\n",
        "model.add(Dense(64, activation='relu'))\n",
        "model.add(Dense(32, activation='relu'))\n",
        "model.add(Dense(1, activation='sigmoid'))"
      ],
      "metadata": {
        "id": "LymenJdlzZOu"
      },
      "execution_count": 16,
      "outputs": []
    },
    {
      "cell_type": "code",
      "source": [
        "model.compile(optimizer='adam',\n",
        "              loss = tf.keras.losses.BinaryCrossentropy(from_logits=False),\n",
        "              metrics = ['accuracy'])"
      ],
      "metadata": {
        "id": "GsYb4xkuzsVI"
      },
      "execution_count": 17,
      "outputs": []
    },
    {
      "cell_type": "code",
      "source": [
        "model.fit(train_data,\n",
        "          epochs = 10,\n",
        "          batch_size = 32,\n",
        "          verbose=1,\n",
        "          validation_data = test_data)"
      ],
      "metadata": {
        "colab": {
          "base_uri": "https://localhost:8080/"
        },
        "id": "eTi1WHcE0AM_",
        "outputId": "3b9e045e-122f-4ffb-fbbb-9537003bb3d9"
      },
      "execution_count": 20,
      "outputs": [
        {
          "output_type": "stream",
          "name": "stdout",
          "text": [
            "Epoch 1/10\n",
            "8/8 [==============================] - 0s 25ms/step - loss: 0.2239 - accuracy: 0.8945 - val_loss: 0.0548 - val_accuracy: 1.0000\n",
            "Epoch 2/10\n",
            "8/8 [==============================] - 0s 24ms/step - loss: 0.1778 - accuracy: 0.9180 - val_loss: 0.1804 - val_accuracy: 0.9231\n",
            "Epoch 3/10\n",
            "8/8 [==============================] - 0s 28ms/step - loss: 0.1848 - accuracy: 0.9375 - val_loss: 0.0741 - val_accuracy: 1.0000\n",
            "Epoch 4/10\n",
            "8/8 [==============================] - 0s 24ms/step - loss: 0.1225 - accuracy: 0.9648 - val_loss: 0.1052 - val_accuracy: 1.0000\n",
            "Epoch 5/10\n",
            "8/8 [==============================] - 0s 26ms/step - loss: 0.1021 - accuracy: 0.9648 - val_loss: 0.0441 - val_accuracy: 1.0000\n",
            "Epoch 6/10\n",
            "8/8 [==============================] - 0s 24ms/step - loss: 0.0685 - accuracy: 0.9922 - val_loss: 0.0463 - val_accuracy: 1.0000\n",
            "Epoch 7/10\n",
            "8/8 [==============================] - 0s 23ms/step - loss: 0.0734 - accuracy: 0.9961 - val_loss: 0.0565 - val_accuracy: 1.0000\n",
            "Epoch 8/10\n",
            "8/8 [==============================] - 0s 25ms/step - loss: 0.0651 - accuracy: 0.9922 - val_loss: 0.0415 - val_accuracy: 1.0000\n",
            "Epoch 9/10\n",
            "8/8 [==============================] - 0s 24ms/step - loss: 0.0606 - accuracy: 1.0000 - val_loss: 0.0332 - val_accuracy: 1.0000\n",
            "Epoch 10/10\n",
            "8/8 [==============================] - 0s 27ms/step - loss: 0.0445 - accuracy: 1.0000 - val_loss: 0.0369 - val_accuracy: 1.0000\n"
          ]
        },
        {
          "output_type": "execute_result",
          "data": {
            "text/plain": [
              "<keras.src.callbacks.History at 0x7a7a75ed1fc0>"
            ]
          },
          "metadata": {},
          "execution_count": 20
        }
      ]
    }
  ]
}